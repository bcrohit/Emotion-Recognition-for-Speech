{
 "cells": [
  {
   "cell_type": "code",
   "execution_count": 43,
   "id": "011a3959",
   "metadata": {},
   "outputs": [],
   "source": [
    "import librosa\n",
    "import os\n",
    "import csv\n",
    "import numpy as np\n",
    "from pydub import AudioSegment\n",
    "import soundfile as sf"
   ]
  },
  {
   "cell_type": "code",
   "execution_count": 44,
   "id": "5f7e510e",
   "metadata": {},
   "outputs": [],
   "source": [
    "frame_length = 1024\n",
    "hop_length = 512"
   ]
  },
  {
   "cell_type": "code",
   "execution_count": null,
   "id": "43e26478",
   "metadata": {
    "scrolled": true
   },
   "outputs": [],
   "source": [
    "dataset_path = # path to dataset\n",
    "destination = # path to destination folder\n",
    "\n",
    "def trim_and_normalize_audio(dataset_path, destination, frame_length):\n",
    "                   \n",
    "    for i, (dirpath, dirnames, files) in enumerate(os.walk(dataset_path)):\n",
    "        \n",
    "        if dirpath is not dataset_path:\n",
    "            print(f'Processing {dirpath}')\n",
    "            emotion = dirpath.split('\\\\')[-1]  \n",
    "            \n",
    "            for file in files:\n",
    "                print(file)\n",
    "                file_path = os.path.join(dirpath, file)\n",
    "                \n",
    "                signal, sr = librosa.load(file_path)\n",
    "                y, index = librosa.effects.trim(signal, top_db=34, frame_length=frame_length)\n",
    "\n",
    "                path = os.path.join(destination, 'Trimmed', emotion, file)\n",
    "                sf.write(path, y, samplerate=sr)\n",
    "                \n",
    "                audio = AudioSegment.from_file(path)\n",
    "                audio = audio.normalize(headroom=-1)\n",
    "                \n",
    "                path = os.path.join(destination, 'Normalized', emotion, file)\n",
    "                audio.export(path, format='wav')"
   ]
  },
  {
   "cell_type": "code",
   "execution_count": null,
   "id": "72a8bc78",
   "metadata": {
    "scrolled": false
   },
   "outputs": [],
   "source": [
    "trim_and_normalize_audio(dataset_path, destination, frame_length)"
   ]
  }
 ],
 "metadata": {
  "kernelspec": {
   "display_name": "Python 3 (ipykernel)",
   "language": "python",
   "name": "python3"
  },
  "language_info": {
   "codemirror_mode": {
    "name": "ipython",
    "version": 3
   },
   "file_extension": ".py",
   "mimetype": "text/x-python",
   "name": "python",
   "nbconvert_exporter": "python",
   "pygments_lexer": "ipython3",
   "version": "3.9.13"
  }
 },
 "nbformat": 4,
 "nbformat_minor": 5
}
